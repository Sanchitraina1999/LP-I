{
 "cells": [
  {
   "cell_type": "code",
   "execution_count": 1,
   "id": "b057ebb5",
   "metadata": {},
   "outputs": [],
   "source": [
    "import pandas as pd\n",
    "import numpy as np\n",
    "import matplotlib.pyplot as plt\n",
    "from sklearn import metrics\n",
    "from sklearn.metrics import classification_report,accuracy_score, confusion_matrix\n",
    "import seaborn as sns\n",
    "import warnings\n",
    "warnings.filterwarnings('ignore')"
   ]
  },
  {
   "cell_type": "code",
   "execution_count": 2,
   "id": "444c675f",
   "metadata": {},
   "outputs": [],
   "source": [
    "df=pd.read_csv('train.csv')"
   ]
  },
  {
   "cell_type": "code",
   "execution_count": 3,
   "id": "6d1a7104",
   "metadata": {},
   "outputs": [
    {
     "data": {
      "text/html": [
       "<div>\n",
       "<style scoped>\n",
       "    .dataframe tbody tr th:only-of-type {\n",
       "        vertical-align: middle;\n",
       "    }\n",
       "\n",
       "    .dataframe tbody tr th {\n",
       "        vertical-align: top;\n",
       "    }\n",
       "\n",
       "    .dataframe thead th {\n",
       "        text-align: right;\n",
       "    }\n",
       "</style>\n",
       "<table border=\"1\" class=\"dataframe\">\n",
       "  <thead>\n",
       "    <tr style=\"text-align: right;\">\n",
       "      <th></th>\n",
       "      <th>Item_Identifier</th>\n",
       "      <th>Item_Weight</th>\n",
       "      <th>Item_Fat_Content</th>\n",
       "      <th>Item_Visibility</th>\n",
       "      <th>Item_Type</th>\n",
       "      <th>Item_MRP</th>\n",
       "      <th>Outlet_Identifier</th>\n",
       "      <th>Outlet_Establishment_Year</th>\n",
       "      <th>Outlet_Size</th>\n",
       "      <th>Outlet_Location_Type</th>\n",
       "      <th>Outlet_Type</th>\n",
       "      <th>Item_Outlet_Sales</th>\n",
       "    </tr>\n",
       "  </thead>\n",
       "  <tbody>\n",
       "    <tr>\n",
       "      <th>0</th>\n",
       "      <td>FDA15</td>\n",
       "      <td>9.30</td>\n",
       "      <td>Low Fat</td>\n",
       "      <td>0.016047</td>\n",
       "      <td>Dairy</td>\n",
       "      <td>249.8092</td>\n",
       "      <td>OUT049</td>\n",
       "      <td>1999</td>\n",
       "      <td>Medium</td>\n",
       "      <td>Tier 1</td>\n",
       "      <td>Supermarket Type1</td>\n",
       "      <td>3735.1380</td>\n",
       "    </tr>\n",
       "    <tr>\n",
       "      <th>1</th>\n",
       "      <td>DRC01</td>\n",
       "      <td>5.92</td>\n",
       "      <td>Regular</td>\n",
       "      <td>0.019278</td>\n",
       "      <td>Soft Drinks</td>\n",
       "      <td>48.2692</td>\n",
       "      <td>OUT018</td>\n",
       "      <td>2009</td>\n",
       "      <td>Medium</td>\n",
       "      <td>Tier 3</td>\n",
       "      <td>Supermarket Type2</td>\n",
       "      <td>443.4228</td>\n",
       "    </tr>\n",
       "    <tr>\n",
       "      <th>2</th>\n",
       "      <td>FDN15</td>\n",
       "      <td>17.50</td>\n",
       "      <td>Low Fat</td>\n",
       "      <td>0.016760</td>\n",
       "      <td>Meat</td>\n",
       "      <td>141.6180</td>\n",
       "      <td>OUT049</td>\n",
       "      <td>1999</td>\n",
       "      <td>Medium</td>\n",
       "      <td>Tier 1</td>\n",
       "      <td>Supermarket Type1</td>\n",
       "      <td>2097.2700</td>\n",
       "    </tr>\n",
       "    <tr>\n",
       "      <th>3</th>\n",
       "      <td>FDX07</td>\n",
       "      <td>19.20</td>\n",
       "      <td>Regular</td>\n",
       "      <td>0.000000</td>\n",
       "      <td>Fruits and Vegetables</td>\n",
       "      <td>182.0950</td>\n",
       "      <td>OUT010</td>\n",
       "      <td>1998</td>\n",
       "      <td>NaN</td>\n",
       "      <td>Tier 3</td>\n",
       "      <td>Grocery Store</td>\n",
       "      <td>732.3800</td>\n",
       "    </tr>\n",
       "    <tr>\n",
       "      <th>4</th>\n",
       "      <td>NCD19</td>\n",
       "      <td>8.93</td>\n",
       "      <td>Low Fat</td>\n",
       "      <td>0.000000</td>\n",
       "      <td>Household</td>\n",
       "      <td>53.8614</td>\n",
       "      <td>OUT013</td>\n",
       "      <td>1987</td>\n",
       "      <td>High</td>\n",
       "      <td>Tier 3</td>\n",
       "      <td>Supermarket Type1</td>\n",
       "      <td>994.7052</td>\n",
       "    </tr>\n",
       "  </tbody>\n",
       "</table>\n",
       "</div>"
      ],
      "text/plain": [
       "  Item_Identifier  Item_Weight Item_Fat_Content  Item_Visibility  \\\n",
       "0           FDA15         9.30          Low Fat         0.016047   \n",
       "1           DRC01         5.92          Regular         0.019278   \n",
       "2           FDN15        17.50          Low Fat         0.016760   \n",
       "3           FDX07        19.20          Regular         0.000000   \n",
       "4           NCD19         8.93          Low Fat         0.000000   \n",
       "\n",
       "               Item_Type  Item_MRP Outlet_Identifier  \\\n",
       "0                  Dairy  249.8092            OUT049   \n",
       "1            Soft Drinks   48.2692            OUT018   \n",
       "2                   Meat  141.6180            OUT049   \n",
       "3  Fruits and Vegetables  182.0950            OUT010   \n",
       "4              Household   53.8614            OUT013   \n",
       "\n",
       "   Outlet_Establishment_Year Outlet_Size Outlet_Location_Type  \\\n",
       "0                       1999      Medium               Tier 1   \n",
       "1                       2009      Medium               Tier 3   \n",
       "2                       1999      Medium               Tier 1   \n",
       "3                       1998         NaN               Tier 3   \n",
       "4                       1987        High               Tier 3   \n",
       "\n",
       "         Outlet_Type  Item_Outlet_Sales  \n",
       "0  Supermarket Type1          3735.1380  \n",
       "1  Supermarket Type2           443.4228  \n",
       "2  Supermarket Type1          2097.2700  \n",
       "3      Grocery Store           732.3800  \n",
       "4  Supermarket Type1           994.7052  "
      ]
     },
     "execution_count": 3,
     "metadata": {},
     "output_type": "execute_result"
    }
   ],
   "source": [
    "df.head()"
   ]
  },
  {
   "cell_type": "code",
   "execution_count": 4,
   "id": "08ac9f0d",
   "metadata": {},
   "outputs": [
    {
     "data": {
      "text/html": [
       "<div>\n",
       "<style scoped>\n",
       "    .dataframe tbody tr th:only-of-type {\n",
       "        vertical-align: middle;\n",
       "    }\n",
       "\n",
       "    .dataframe tbody tr th {\n",
       "        vertical-align: top;\n",
       "    }\n",
       "\n",
       "    .dataframe thead th {\n",
       "        text-align: right;\n",
       "    }\n",
       "</style>\n",
       "<table border=\"1\" class=\"dataframe\">\n",
       "  <thead>\n",
       "    <tr style=\"text-align: right;\">\n",
       "      <th></th>\n",
       "      <th>Item_Weight</th>\n",
       "      <th>Item_Visibility</th>\n",
       "      <th>Item_MRP</th>\n",
       "      <th>Outlet_Establishment_Year</th>\n",
       "      <th>Item_Outlet_Sales</th>\n",
       "    </tr>\n",
       "  </thead>\n",
       "  <tbody>\n",
       "    <tr>\n",
       "      <th>count</th>\n",
       "      <td>7060.000000</td>\n",
       "      <td>8523.000000</td>\n",
       "      <td>8523.000000</td>\n",
       "      <td>8523.000000</td>\n",
       "      <td>8523.000000</td>\n",
       "    </tr>\n",
       "    <tr>\n",
       "      <th>mean</th>\n",
       "      <td>12.857645</td>\n",
       "      <td>0.066132</td>\n",
       "      <td>140.992782</td>\n",
       "      <td>1997.831867</td>\n",
       "      <td>2181.288914</td>\n",
       "    </tr>\n",
       "    <tr>\n",
       "      <th>std</th>\n",
       "      <td>4.643456</td>\n",
       "      <td>0.051598</td>\n",
       "      <td>62.275067</td>\n",
       "      <td>8.371760</td>\n",
       "      <td>1706.499616</td>\n",
       "    </tr>\n",
       "    <tr>\n",
       "      <th>min</th>\n",
       "      <td>4.555000</td>\n",
       "      <td>0.000000</td>\n",
       "      <td>31.290000</td>\n",
       "      <td>1985.000000</td>\n",
       "      <td>33.290000</td>\n",
       "    </tr>\n",
       "    <tr>\n",
       "      <th>25%</th>\n",
       "      <td>8.773750</td>\n",
       "      <td>0.026989</td>\n",
       "      <td>93.826500</td>\n",
       "      <td>1987.000000</td>\n",
       "      <td>834.247400</td>\n",
       "    </tr>\n",
       "    <tr>\n",
       "      <th>50%</th>\n",
       "      <td>12.600000</td>\n",
       "      <td>0.053931</td>\n",
       "      <td>143.012800</td>\n",
       "      <td>1999.000000</td>\n",
       "      <td>1794.331000</td>\n",
       "    </tr>\n",
       "    <tr>\n",
       "      <th>75%</th>\n",
       "      <td>16.850000</td>\n",
       "      <td>0.094585</td>\n",
       "      <td>185.643700</td>\n",
       "      <td>2004.000000</td>\n",
       "      <td>3101.296400</td>\n",
       "    </tr>\n",
       "    <tr>\n",
       "      <th>max</th>\n",
       "      <td>21.350000</td>\n",
       "      <td>0.328391</td>\n",
       "      <td>266.888400</td>\n",
       "      <td>2009.000000</td>\n",
       "      <td>13086.964800</td>\n",
       "    </tr>\n",
       "  </tbody>\n",
       "</table>\n",
       "</div>"
      ],
      "text/plain": [
       "       Item_Weight  Item_Visibility     Item_MRP  Outlet_Establishment_Year  \\\n",
       "count  7060.000000      8523.000000  8523.000000                8523.000000   \n",
       "mean     12.857645         0.066132   140.992782                1997.831867   \n",
       "std       4.643456         0.051598    62.275067                   8.371760   \n",
       "min       4.555000         0.000000    31.290000                1985.000000   \n",
       "25%       8.773750         0.026989    93.826500                1987.000000   \n",
       "50%      12.600000         0.053931   143.012800                1999.000000   \n",
       "75%      16.850000         0.094585   185.643700                2004.000000   \n",
       "max      21.350000         0.328391   266.888400                2009.000000   \n",
       "\n",
       "       Item_Outlet_Sales  \n",
       "count        8523.000000  \n",
       "mean         2181.288914  \n",
       "std          1706.499616  \n",
       "min            33.290000  \n",
       "25%           834.247400  \n",
       "50%          1794.331000  \n",
       "75%          3101.296400  \n",
       "max         13086.964800  "
      ]
     },
     "execution_count": 4,
     "metadata": {},
     "output_type": "execute_result"
    }
   ],
   "source": [
    "df.describe()"
   ]
  },
  {
   "cell_type": "code",
   "execution_count": 5,
   "id": "5d2663b2",
   "metadata": {},
   "outputs": [
    {
     "data": {
      "text/plain": [
       "array([[<AxesSubplot:title={'center':'Item_Weight'}>,\n",
       "        <AxesSubplot:title={'center':'Item_Visibility'}>],\n",
       "       [<AxesSubplot:title={'center':'Item_MRP'}>,\n",
       "        <AxesSubplot:title={'center':'Outlet_Establishment_Year'}>],\n",
       "       [<AxesSubplot:title={'center':'Item_Outlet_Sales'}>,\n",
       "        <AxesSubplot:>]], dtype=object)"
      ]
     },
     "execution_count": 5,
     "metadata": {},
     "output_type": "execute_result"
    },
    {
     "data": {
      "image/png": "[encoded data removed]",
      "text/plain": [
       "<Figure size 432x288 with 6 Axes>"
      ]
     },
     "metadata": {
      "needs_background": "light"
     },
     "output_type": "display_data"
    }
   ],
   "source": [
    "df.hist()"
   ]
  },
  {
   "cell_type": "code",
   "execution_count": 6,
   "id": "427e833c",
   "metadata": {},
   "outputs": [
    {
     "name": "stdout",
     "output_type": "stream",
     "text": [
      "<class 'pandas.core.frame.DataFrame'>\n",
      "RangeIndex: 8523 entries, 0 to 8522\n",
      "Data columns (total 12 columns):\n",
      " #   Column                     Non-Null Count  Dtype  \n",
      "---  ------                     --------------  -----  \n",
      " 0   Item_Identifier            8523 non-null   object \n",
      " 1   Item_Weight                7060 non-null   float64\n",
      " 2   Item_Fat_Content           8523 non-null   object \n",
      " 3   Item_Visibility            8523 non-null   float64\n",
      " 4   Item_Type                  8523 non-null   object \n",
      " 5   Item_MRP                   8523 non-null   float64\n",
      " 6   Outlet_Identifier          8523 non-null   object \n",
      " 7   Outlet_Establishment_Year  8523 non-null   int64  \n",
      " 8   Outlet_Size                6113 non-null   object \n",
      " 9   Outlet_Location_Type       8523 non-null   object \n",
      " 10  Outlet_Type                8523 non-null   object \n",
      " 11  Item_Outlet_Sales          8523 non-null   float64\n",
      "dtypes: float64(4), int64(1), object(7)\n",
      "memory usage: 799.2+ KB\n"
     ]
    }
   ],
   "source": [
    "df.info()"
   ]
  },
  {
   "cell_type": "code",
   "execution_count": 7,
   "id": "89ce7ef9",
   "metadata": {},
   "outputs": [
    {
     "data": {
      "text/plain": [
       "<AxesSubplot:>"
      ]
     },
     "execution_count": 7,
     "metadata": {},
     "output_type": "execute_result"
    },
    {
     "data": {
      "image/png": "[encoded data removed]",
      "text/plain": [
       "<Figure size 720x576 with 2 Axes>"
      ]
     },
     "metadata": {
      "needs_background": "light"
     },
     "output_type": "display_data"
    }
   ],
   "source": [
    "corr=df.corr()\n",
    "plt.figure(figsize=(10,8))\n",
    "sns.heatmap(corr, annot = True)"
   ]
  },
  {
   "cell_type": "code",
   "execution_count": 8,
   "id": "3f2880d9",
   "metadata": {},
   "outputs": [
    {
     "data": {
      "text/plain": [
       "Item_Identifier                 0\n",
       "Item_Weight                  1463\n",
       "Item_Fat_Content                0\n",
       "Item_Visibility                 0\n",
       "Item_Type                       0\n",
       "Item_MRP                        0\n",
       "Outlet_Identifier               0\n",
       "Outlet_Establishment_Year       0\n",
       "Outlet_Size                  2410\n",
       "Outlet_Location_Type            0\n",
       "Outlet_Type                     0\n",
       "Item_Outlet_Sales               0\n",
       "dtype: int64"
      ]
     },
     "execution_count": 8,
     "metadata": {},
     "output_type": "execute_result"
    }
   ],
   "source": [
    "df.isnull().sum()"
   ]
  },
  {
   "cell_type": "code",
   "execution_count": 9,
   "id": "ed91e5a6",
   "metadata": {},
   "outputs": [
    {
     "name": "stdout",
     "output_type": "stream",
     "text": [
      "Mean :  12.857645184135976\n",
      "Median :  12.6\n",
      "Mode :  12.15\n"
     ]
    }
   ],
   "source": [
    "print(\"Mean : \",df['Item_Weight'].mean())\n",
    "print(\"Median : \",df['Item_Weight'].median())\n",
    "print(\"Mode : \",df['Item_Weight'].mode()[0])"
   ]
  },
  {
   "cell_type": "code",
   "execution_count": 10,
   "id": "e5aaa65a",
   "metadata": {},
   "outputs": [],
   "source": [
    "df['Item_Weight'].fillna(df['Item_Weight'].mean(), inplace=True)"
   ]
  },
  {
   "cell_type": "code",
   "execution_count": 11,
   "id": "476bf3b5",
   "metadata": {},
   "outputs": [
    {
     "name": "stdout",
     "output_type": "stream",
     "text": [
      "Mode :  Medium\n"
     ]
    }
   ],
   "source": [
    "print(\"Mode : \",df['Outlet_Size'].mode()[0])\n",
    "df['Outlet_Size'].fillna(df['Outlet_Size'].mode()[0], inplace=True)"
   ]
  },
  {
   "cell_type": "code",
   "execution_count": 12,
   "id": "4926018a",
   "metadata": {},
   "outputs": [
    {
     "name": "stdout",
     "output_type": "stream",
     "text": [
      "Unique Values in Item_Fat_Content before modification -  ['Low Fat' 'Regular' 'low fat' 'LF' 'reg']\n"
     ]
    },
    {
     "data": {
      "text/plain": [
       "array(['Dairy', 'Soft Drinks', 'Meat', 'Fruits and Vegetables',\n",
       "       'Household', 'Baking Goods', 'Snack Foods', 'Frozen Foods',\n",
       "       'Breakfast', 'Health and Hygiene', 'Hard Drinks', 'Canned',\n",
       "       'Breads', 'Starchy Foods', 'Others', 'Seafood'], dtype=object)"
      ]
     },
     "execution_count": 12,
     "metadata": {},
     "output_type": "execute_result"
    }
   ],
   "source": [
    "print(\"Unique Values in Item_Fat_Content before modification - \",df['Item_Fat_Content'].unique())\n",
    "df['Item_Type'].unique()"
   ]
  },
  {
   "cell_type": "code",
   "execution_count": 13,
   "id": "a8b8e87e",
   "metadata": {},
   "outputs": [],
   "source": [
    "df['Item_Fat_Content'].replace(to_replace='low fat', value='Low Fat', inplace=True)\n",
    "df['Item_Fat_Content'].replace(to_replace='LF', value='Low Fat', inplace=True)\n",
    "df['Item_Fat_Content'].replace(to_replace='reg', value='Regular', inplace=True)"
   ]
  },
  {
   "cell_type": "code",
   "execution_count": 14,
   "id": "c55a36b0",
   "metadata": {},
   "outputs": [
    {
     "name": "stdout",
     "output_type": "stream",
     "text": [
      "Unique Values in Item_Fat_Content after modification -  ['Low Fat' 'Regular']\n"
     ]
    }
   ],
   "source": [
    "print(\"Unique Values in Item_Fat_Content after modification - \",df['Item_Fat_Content'].unique())"
   ]
  },
  {
   "cell_type": "code",
   "execution_count": 15,
   "id": "c33abe56",
   "metadata": {},
   "outputs": [
    {
     "name": "stdout",
     "output_type": "stream",
     "text": [
      "{'DRA12': 0, 'DRA24': 1, 'DRA59': 2, 'DRB01': 3, 'DRB13': 4, 'DRB24': 5, 'DRB25': 6, 'DRB48': 7, 'DRC01': 8, 'DRC12': 9, 'DRC13': 10, 'DRC24': 11, 'DRC25': 12, 'DRC27': 13, 'DRC36': 14, 'DRC49': 15, 'DRD01': 16, 'DRD12': 17, 'DRD13': 18, 'DRD15': 19, 'DRD24': 20, 'DRD25': 21, 'DRD27': 22, 'DRD37': 23, 'DRD49': 24, 'DRD60': 25, 'DRE01': 26, 'DRE03': 27, 'DRE12': 28, 'DRE13': 29, 'DRE15': 30, 'DRE25': 31, 'DRE27': 32, 'DRE37': 33, 'DRE48': 34, 'DRE49': 35, 'DRE60': 36, 'DRF01': 37, 'DRF03': 38, 'DRF13': 39, 'DRF15': 40, 'DRF23': 41, 'DRF25': 42, 'DRF27': 43, 'DRF36': 44, 'DRF37': 45, 'DRF48': 46, 'DRF49': 47, 'DRF51': 48, 'DRF60': 49, 'DRG01': 50, 'DRG03': 51, 'DRG11': 52, 'DRG13': 53, 'DRG15': 54, 'DRG23': 55, 'DRG25': 56, 'DRG27': 57, 'DRG36': 58, 'DRG37': 59, 'DRG39': 60, 'DRG48': 61, 'DRG49': 62, 'DRG51': 63, 'DRH01': 64, 'DRH03': 65, 'DRH11': 66, 'DRH13': 67, 'DRH15': 68, 'DRH23': 69, 'DRH25': 70, 'DRH36': 71, 'DRH37': 72, 'DRH39': 73, 'DRH49': 74, 'DRH51': 75, 'DRH59': 76, 'DRI01': 77, 'DRI03': 78, 'DRI11': 79, 'DRI13': 80, 'DRI23': 81, 'DRI25': 82, 'DRI37': 83, 'DRI39': 84, 'DRI47': 85, 'DRI49': 86, 'DRI51': 87, 'DRI59': 88, 'DRJ01': 89, 'DRJ11': 90, 'DRJ13': 91, 'DRJ23': 92, 'DRJ24': 93, 'DRJ25': 94, 'DRJ35': 95, 'DRJ37': 96, 'DRJ39': 97, 'DRJ47': 98, 'DRJ49': 99, 'DRJ51': 100, 'DRJ59': 101, 'DRK01': 102, 'DRK11': 103, 'DRK12': 104, 'DRK13': 105, 'DRK23': 106, 'DRK35': 107, 'DRK37': 108, 'DRK39': 109, 'DRK47': 110, 'DRK49': 111, 'DRK59': 112, 'DRL01': 113, 'DRL11': 114, 'DRL23': 115, 'DRL35': 116, 'DRL37': 117, 'DRL47': 118, 'DRL49': 119, 'DRL59': 120, 'DRL60': 121, 'DRM11': 122, 'DRM23': 123, 'DRM35': 124, 'DRM37': 125, 'DRM47': 126, 'DRM48': 127, 'DRM49': 128, 'DRM59': 129, 'DRN11': 130, 'DRN35': 131, 'DRN36': 132, 'DRN37': 133, 'DRN47': 134, 'DRN59': 135, 'DRO35': 136, 'DRO47': 137, 'DRO59': 138, 'DRP35': 139, 'DRP47': 140, 'DRQ35': 141, 'DRY23': 142, 'DRZ11': 143, 'DRZ24': 144, 'FDA01': 145, 'FDA02': 146, 'FDA03': 147, 'FDA04': 148, 'FDA07': 149, 'FDA08': 150, 'FDA09': 151, 'FDA10': 152, 'FDA11': 153, 'FDA13': 154, 'FDA14': 155, 'FDA15': 156, 'FDA16': 157, 'FDA19': 158, 'FDA20': 159, 'FDA21': 160, 'FDA22': 161, 'FDA23': 162, 'FDA25': 163, 'FDA26': 164, 'FDA27': 165, 'FDA28': 166, 'FDA31': 167, 'FDA32': 168, 'FDA33': 169, 'FDA34': 170, 'FDA35': 171, 'FDA36': 172, 'FDA37': 173, 'FDA38': 174, 'FDA39': 175, 'FDA40': 176, 'FDA43': 177, 'FDA44': 178, 'FDA45': 179, 'FDA46': 180, 'FDA47': 181, 'FDA48': 182, 'FDA49': 183, 'FDA50': 184, 'FDA51': 185, 'FDA52': 186, 'FDA55': 187, 'FDA56': 188, 'FDA57': 189, 'FDA58': 190, 'FDB02': 191, 'FDB03': 192, 'FDB04': 193, 'FDB05': 194, 'FDB08': 195, 'FDB09': 196, 'FDB10': 197, 'FDB11': 198, 'FDB12': 199, 'FDB14': 200, 'FDB15': 201, 'FDB16': 202, 'FDB17': 203, 'FDB20': 204, 'FDB21': 205, 'FDB22': 206, 'FDB23': 207, 'FDB26': 208, 'FDB27': 209, 'FDB28': 210, 'FDB29': 211, 'FDB32': 212, 'FDB33': 213, 'FDB34': 214, 'FDB35': 215, 'FDB36': 216, 'FDB37': 217, 'FDB38': 218, 'FDB39': 219, 'FDB40': 220, 'FDB41': 221, 'FDB44': 222, 'FDB45': 223, 'FDB46': 224, 'FDB47': 225, 'FDB49': 226, 'FDB50': 227, 'FDB51': 228, 'FDB52': 229, 'FDB53': 230, 'FDB56': 231, 'FDB57': 232, 'FDB58': 233, 'FDB59': 234, 'FDB60': 235, 'FDC02': 236, 'FDC03': 237, 'FDC04': 238, 'FDC05': 239, 'FDC08': 240, 'FDC09': 241, 'FDC10': 242, 'FDC11': 243, 'FDC14': 244, 'FDC15': 245, 'FDC16': 246, 'FDC17': 247, 'FDC20': 248, 'FDC21': 249, 'FDC22': 250, 'FDC23': 251, 'FDC26': 252, 'FDC28': 253, 'FDC29': 254, 'FDC32': 255, 'FDC33': 256, 'FDC34': 257, 'FDC35': 258, 'FDC37': 259, 'FDC38': 260, 'FDC39': 261, 'FDC40': 262, 'FDC41': 263, 'FDC44': 264, 'FDC45': 265, 'FDC46': 266, 'FDC47': 267, 'FDC48': 268, 'FDC50': 269, 'FDC51': 270, 'FDC52': 271, 'FDC53': 272, 'FDC56': 273, 'FDC57': 274, 'FDC58': 275, 'FDC59': 276, 'FDC60': 277, 'FDD02': 278, 'FDD03': 279, 'FDD04': 280, 'FDD05': 281, 'FDD08': 282, 'FDD09': 283, 'FDD10': 284, 'FDD11': 285, 'FDD14': 286, 'FDD16': 287, 'FDD17': 288, 'FDD20': 289, 'FDD21': 290, 'FDD22': 291, 'FDD23': 292, 'FDD26': 293, 'FDD28': 294, 'FDD29': 295, 'FDD32': 296, 'FDD33': 297, 'FDD34': 298, 'FDD35': 299, 'FDD36': 300, 'FDD38': 301, 'FDD39': 302, 'FDD40': 303, 'FDD41': 304, 'FDD44': 305, 'FDD45': 306, 'FDD46': 307, 'FDD47': 308, 'FDD48': 309, 'FDD50': 310, 'FDD51': 311, 'FDD52': 312, 'FDD53': 313, 'FDD56': 314, 'FDD57': 315, 'FDD58': 316, 'FDD59': 317, 'FDE02': 318, 'FDE04': 319, 'FDE05': 320, 'FDE08': 321, 'FDE09': 322, 'FDE10': 323, 'FDE11': 324, 'FDE14': 325, 'FDE16': 326, 'FDE17': 327, 'FDE20': 328, 'FDE21': 329, 'FDE22': 330, 'FDE23': 331, 'FDE24': 332, 'FDE26': 333, 'FDE28': 334, 'FDE29': 335, 'FDE32': 336, 'FDE33': 337, 'FDE34': 338, 'FDE35': 339, 'FDE36': 340, 'FDE38': 341, 'FDE39': 342, 'FDE40': 343, 'FDE41': 344, 'FDE44': 345, 'FDE45': 346, 'FDE46': 347, 'FDE47': 348, 'FDE50': 349, 'FDE51': 350, 'FDE52': 351, 'FDE53': 352, 'FDE56': 353, 'FDE57': 354, 'FDE58': 355, 'FDE59': 356, 'FDF02': 357, 'FDF04': 358, 'FDF05': 359, 'FDF08': 360, 'FDF09': 361, 'FDF10': 362, 'FDF11': 363, 'FDF12': 364, 'FDF14': 365, 'FDF16': 366, 'FDF17': 367, 'FDF20': 368, 'FDF21': 369, 'FDF22': 370, 'FDF24': 371, 'FDF26': 372, 'FDF28': 373, 'FDF29': 374, 'FDF32': 375, 'FDF33': 376, 'FDF34': 377, 'FDF35': 378, 'FDF38': 379, 'FDF39': 380, 'FDF40': 381, 'FDF41': 382, 'FDF44': 383, 'FDF45': 384, 'FDF46': 385, 'FDF47': 386, 'FDF50': 387, 'FDF52': 388, 'FDF53': 389, 'FDF56': 390, 'FDF57': 391, 'FDF58': 392, 'FDF59': 393, 'FDG02': 394, 'FDG04': 395, 'FDG05': 396, 'FDG08': 397, 'FDG09': 398, 'FDG10': 399, 'FDG12': 400, 'FDG14': 401, 'FDG16': 402, 'FDG17': 403, 'FDG20': 404, 'FDG21': 405, 'FDG22': 406, 'FDG24': 407, 'FDG26': 408, 'FDG28': 409, 'FDG29': 410, 'FDG31': 411, 'FDG32': 412, 'FDG33': 413, 'FDG34': 414, 'FDG35': 415, 'FDG38': 416, 'FDG40': 417, 'FDG41': 418, 'FDG44': 419, 'FDG45': 420, 'FDG46': 421, 'FDG47': 422, 'FDG50': 423, 'FDG52': 424, 'FDG53': 425, 'FDG56': 426, 'FDG57': 427, 'FDG58': 428, 'FDG59': 429, 'FDG60': 430, 'FDH02': 431, 'FDH04': 432, 'FDH05': 433, 'FDH08': 434, 'FDH09': 435, 'FDH10': 436, 'FDH12': 437, 'FDH14': 438, 'FDH16': 439, 'FDH17': 440, 'FDH19': 441, 'FDH20': 442, 'FDH21': 443, 'FDH22': 444, 'FDH24': 445, 'FDH26': 446, 'FDH27': 447, 'FDH28': 448, 'FDH31': 449, 'FDH32': 450, 'FDH33': 451, 'FDH34': 452, 'FDH35': 453, 'FDH38': 454, 'FDH40': 455, 'FDH41': 456, 'FDH44': 457, 'FDH45': 458, 'FDH46': 459, 'FDH47': 460, 'FDH48': 461, 'FDH50': 462, 'FDH52': 463, 'FDH53': 464, 'FDH56': 465, 'FDH57': 466, 'FDH58': 467, 'FDH60': 468, 'FDI02': 469, 'FDI04': 470, 'FDI05': 471, 'FDI07': 472, 'FDI08': 473, 'FDI09': 474, 'FDI10': 475, 'FDI12': 476, 'FDI14': 477, 'FDI15': 478, 'FDI16': 479, 'FDI19': 480, 'FDI20': 481, 'FDI21': 482, 'FDI22': 483, 'FDI24': 484, 'FDI26': 485, 'FDI27': 486, 'FDI28': 487, 'FDI32': 488, 'FDI33': 489, 'FDI34': 490, 'FDI35': 491, 'FDI36': 492, 'FDI38': 493, 'FDI40': 494, 'FDI41': 495, 'FDI44': 496, 'FDI45': 497, 'FDI46': 498, 'FDI48': 499, 'FDI50': 500, 'FDI52': 501, 'FDI53': 502, 'FDI56': 503, 'FDI57': 504, 'FDI58': 505, 'FDI60': 506, 'FDJ02': 507, 'FDJ03': 508, 'FDJ04': 509, 'FDJ07': 510, 'FDJ08': 511, 'FDJ09': 512, 'FDJ10': 513, 'FDJ12': 514, 'FDJ14': 515, 'FDJ15': 516, 'FDJ16': 517, 'FDJ20': 518, 'FDJ21': 519, 'FDJ22': 520, 'FDJ26': 521, 'FDJ27': 522, 'FDJ28': 523, 'FDJ32': 524, 'FDJ33': 525, 'FDJ34': 526, 'FDJ36': 527, 'FDJ38': 528, 'FDJ40': 529, 'FDJ41': 530, 'FDJ44': 531, 'FDJ45': 532, 'FDJ46': 533, 'FDJ48': 534, 'FDJ50': 535, 'FDJ52': 536, 'FDJ53': 537, 'FDJ55': 538, 'FDJ56': 539, 'FDJ57': 540, 'FDJ58': 541, 'FDJ60': 542, 'FDK02': 543, 'FDK03': 544, 'FDK04': 545, 'FDK08': 546, 'FDK09': 547, 'FDK10': 548, 'FDK14': 549, 'FDK15': 550, 'FDK16': 551, 'FDK20': 552, 'FDK21': 553, 'FDK22': 554, 'FDK24': 555, 'FDK25': 556, 'FDK26': 557, 'FDK27': 558, 'FDK28': 559, 'FDK32': 560, 'FDK33': 561, 'FDK34': 562, 'FDK36': 563, 'FDK38': 564, 'FDK40': 565, 'FDK41': 566, 'FDK43': 567, 'FDK44': 568, 'FDK45': 569, 'FDK46': 570, 'FDK48': 571, 'FDK50': 572, 'FDK51': 573, 'FDK52': 574, 'FDK55': 575, 'FDK56': 576, 'FDK57': 577, 'FDK58': 578, 'FDK60': 579, 'FDL02': 580, 'FDL03': 581, 'FDL04': 582, 'FDL08': 583, 'FDL09': 584, 'FDL10': 585, 'FDL12': 586, 'FDL13': 587, 'FDL14': 588, 'FDL15': 589, 'FDL16': 590, 'FDL20': 591, 'FDL21': 592, 'FDL22': 593, 'FDL24': 594, 'FDL25': 595, 'FDL26': 596, 'FDL27': 597, 'FDL28': 598, 'FDL32': 599, 'FDL33': 600, 'FDL34': 601, 'FDL36': 602, 'FDL38': 603, 'FDL39': 604, 'FDL40': 605, 'FDL43': 606, 'FDL44': 607, 'FDL45': 608, 'FDL46': 609, 'FDL48': 610, 'FDL50': 611, 'FDL51': 612, 'FDL52': 613, 'FDL56': 614, 'FDL57': 615, 'FDL58': 616, 'FDM01': 617, 'FDM02': 618, 'FDM03': 619, 'FDM04': 620, 'FDM08': 621, 'FDM09': 622, 'FDM10': 623, 'FDM12': 624, 'FDM13': 625, 'FDM14': 626, 'FDM15': 627, 'FDM16': 628, 'FDM20': 629, 'FDM21': 630, 'FDM22': 631, 'FDM24': 632, 'FDM25': 633, 'FDM27': 634, 'FDM28': 635, 'FDM32': 636, 'FDM33': 637, 'FDM34': 638, 'FDM36': 639, 'FDM38': 640, 'FDM39': 641, 'FDM40': 642, 'FDM44': 643, 'FDM45': 644, 'FDM46': 645, 'FDM50': 646, 'FDM51': 647, 'FDM52': 648, 'FDM56': 649, 'FDM57': 650, 'FDM58': 651, 'FDM60': 652, 'FDN01': 653, 'FDN02': 654, 'FDN03': 655, 'FDN04': 656, 'FDN08': 657, 'FDN09': 658, 'FDN10': 659, 'FDN12': 660, 'FDN13': 661, 'FDN15': 662, 'FDN16': 663, 'FDN20': 664, 'FDN21': 665, 'FDN22': 666, 'FDN23': 667, 'FDN24': 668, 'FDN25': 669, 'FDN27': 670, 'FDN28': 671, 'FDN31': 672, 'FDN32': 673, 'FDN33': 674, 'FDN34': 675, 'FDN38': 676, 'FDN39': 677, 'FDN40': 678, 'FDN44': 679, 'FDN45': 680, 'FDN46': 681, 'FDN48': 682, 'FDN49': 683, 'FDN50': 684, 'FDN51': 685, 'FDN52': 686, 'FDN56': 687, 'FDN57': 688, 'FDN58': 689, 'FDN60': 690, 'FDO01': 691, 'FDO03': 692, 'FDO04': 693, 'FDO08': 694, 'FDO09': 695, 'FDO10': 696, 'FDO11': 697, 'FDO12': 698, 'FDO13': 699, 'FDO15': 700, 'FDO16': 701, 'FDO19': 702, 'FDO20': 703, 'FDO21': 704, 'FDO22': 705, 'FDO23': 706, 'FDO24': 707, 'FDO25': 708, 'FDO27': 709, 'FDO28': 710, 'FDO31': 711, 'FDO32': 712, 'FDO33': 713, 'FDO34': 714, 'FDO36': 715, 'FDO37': 716, 'FDO38': 717, 'FDO39': 718, 'FDO40': 719, 'FDO44': 720, 'FDO45': 721, 'FDO46': 722, 'FDO48': 723, 'FDO49': 724, 'FDO50': 725, 'FDO51': 726, 'FDO52': 727, 'FDO56': 728, 'FDO57': 729, 'FDO58': 730, 'FDO60': 731, 'FDP01': 732, 'FDP03': 733, 'FDP04': 734, 'FDP07': 735, 'FDP08': 736, 'FDP09': 737, 'FDP10': 738, 'FDP11': 739, 'FDP12': 740, 'FDP13': 741, 'FDP15': 742, 'FDP16': 743, 'FDP19': 744, 'FDP20': 745, 'FDP21': 746, 'FDP22': 747, 'FDP23': 748, 'FDP24': 749, 'FDP25': 750, 'FDP26': 751, 'FDP27': 752, 'FDP28': 753, 'FDP31': 754, 'FDP32': 755, 'FDP33': 756, 'FDP34': 757, 'FDP36': 758, 'FDP37': 759, 'FDP38': 760, 'FDP39': 761, 'FDP40': 762, 'FDP44': 763, 'FDP45': 764, 'FDP46': 765, 'FDP48': 766, 'FDP49': 767, 'FDP51': 768, 'FDP52': 769, 'FDP56': 770, 'FDP57': 771, 'FDP58': 772, 'FDP59': 773, 'FDP60': 774, 'FDQ01': 775, 'FDQ03': 776, 'FDQ04': 777, 'FDQ07': 778, 'FDQ08': 779, 'FDQ09': 780, 'FDQ10': 781, 'FDQ11': 782, 'FDQ12': 783, 'FDQ13': 784, 'FDQ14': 785, 'FDQ15': 786, 'FDQ16': 787, 'FDQ19': 788, 'FDQ20': 789, 'FDQ21': 790, 'FDQ22': 791, 'FDQ23': 792, 'FDQ24': 793, 'FDQ25': 794, 'FDQ26': 795, 'FDQ27': 796, 'FDQ28': 797, 'FDQ31': 798, 'FDQ32': 799, 'FDQ33': 800, 'FDQ34': 801, 'FDQ36': 802, 'FDQ37': 803, 'FDQ39': 804, 'FDQ40': 805, 'FDQ44': 806, 'FDQ45': 807, 'FDQ46': 808, 'FDQ47': 809, 'FDQ48': 810, 'FDQ49': 811, 'FDQ51': 812, 'FDQ52': 813, 'FDQ55': 814, 'FDQ56': 815, 'FDQ57': 816, 'FDQ58': 817, 'FDQ59': 818, 'FDQ60': 819, 'FDR01': 820, 'FDR02': 821, 'FDR03': 822, 'FDR04': 823, 'FDR07': 824, 'FDR08': 825, 'FDR09': 826, 'FDR10': 827, 'FDR11': 828, 'FDR12': 829, 'FDR13': 830, 'FDR14': 831, 'FDR15': 832, 'FDR16': 833, 'FDR19': 834, 'FDR20': 835, 'FDR21': 836, 'FDR22': 837, 'FDR23': 838, 'FDR24': 839, 'FDR25': 840, 'FDR26': 841, 'FDR27': 842, 'FDR28': 843, 'FDR31': 844, 'FDR32': 845, 'FDR33': 846, 'FDR34': 847, 'FDR35': 848, 'FDR36': 849, 'FDR37': 850, 'FDR39': 851, 'FDR40': 852, 'FDR43': 853, 'FDR44': 854, 'FDR45': 855, 'FDR46': 856, 'FDR47': 857, 'FDR48': 858, 'FDR49': 859, 'FDR51': 860, 'FDR52': 861, 'FDR55': 862, 'FDR56': 863, 'FDR57': 864, 'FDR58': 865, 'FDR59': 866, 'FDR60': 867, 'FDS01': 868, 'FDS02': 869, 'FDS03': 870, 'FDS04': 871, 'FDS07': 872, 'FDS08': 873, 'FDS09': 874, 'FDS10': 875, 'FDS11': 876, 'FDS12': 877, 'FDS13': 878, 'FDS14': 879, 'FDS15': 880, 'FDS16': 881, 'FDS19': 882, 'FDS20': 883, 'FDS21': 884, 'FDS22': 885, 'FDS23': 886, 'FDS24': 887, 'FDS25': 888, 'FDS26': 889, 'FDS27': 890, 'FDS28': 891, 'FDS31': 892, 'FDS32': 893, 'FDS33': 894, 'FDS34': 895, 'FDS35': 896, 'FDS36': 897, 'FDS37': 898, 'FDS39': 899, 'FDS40': 900, 'FDS43': 901, 'FDS44': 902, 'FDS45': 903, 'FDS46': 904, 'FDS47': 905, 'FDS48': 906, 'FDS49': 907, 'FDS50': 908, 'FDS51': 909, 'FDS52': 910, 'FDS55': 911, 'FDS56': 912, 'FDS57': 913, 'FDS58': 914, 'FDS59': 915, 'FDS60': 916, 'FDT01': 917, 'FDT02': 918, 'FDT03': 919, 'FDT04': 920, 'FDT07': 921, 'FDT08': 922, 'FDT09': 923, 'FDT10': 924, 'FDT11': 925, 'FDT12': 926, 'FDT13': 927, 'FDT14': 928, 'FDT15': 929, 'FDT16': 930, 'FDT19': 931, 'FDT20': 932, 'FDT21': 933, 'FDT22': 934, 'FDT23': 935, 'FDT24': 936, 'FDT25': 937, 'FDT26': 938, 'FDT27': 939, 'FDT28': 940, 'FDT31': 941, 'FDT32': 942, 'FDT33': 943, 'FDT34': 944, 'FDT35': 945, 'FDT36': 946, 'FDT37': 947, 'FDT38': 948, 'FDT39': 949, 'FDT40': 950, 'FDT43': 951, 'FDT44': 952, 'FDT45': 953, 'FDT46': 954, 'FDT47': 955, 'FDT48': 956, 'FDT49': 957, 'FDT50': 958, 'FDT51': 959, 'FDT52': 960, 'FDT55': 961, 'FDT56': 962, 'FDT57': 963, 'FDT58': 964, 'FDT59': 965, 'FDT60': 966, 'FDU01': 967, 'FDU02': 968, 'FDU03': 969, 'FDU04': 970, 'FDU07': 971, 'FDU08': 972, 'FDU09': 973, 'FDU10': 974, 'FDU11': 975, 'FDU12': 976, 'FDU13': 977, 'FDU14': 978, 'FDU15': 979, 'FDU16': 980, 'FDU19': 981, 'FDU20': 982, 'FDU21': 983, 'FDU22': 984, 'FDU23': 985, 'FDU24': 986, 'FDU25': 987, 'FDU26': 988, 'FDU27': 989, 'FDU28': 990, 'FDU31': 991, 'FDU32': 992, 'FDU33': 993, 'FDU34': 994, 'FDU35': 995, 'FDU36': 996, 'FDU37': 997, 'FDU38': 998, 'FDU39': 999, 'FDU40': 1000, 'FDU43': 1001, 'FDU44': 1002, 'FDU45': 1003, 'FDU46': 1004, 'FDU47': 1005, 'FDU48': 1006, 'FDU49': 1007, 'FDU50': 1008, 'FDU51': 1009, 'FDU52': 1010, 'FDU55': 1011, 'FDU56': 1012, 'FDU57': 1013, 'FDU58': 1014, 'FDU59': 1015, 'FDU60': 1016, 'FDV01': 1017, 'FDV02': 1018, 'FDV03': 1019, 'FDV04': 1020, 'FDV07': 1021, 'FDV08': 1022, 'FDV09': 1023, 'FDV10': 1024, 'FDV11': 1025, 'FDV12': 1026, 'FDV13': 1027, 'FDV14': 1028, 'FDV15': 1029, 'FDV16': 1030, 'FDV19': 1031, 'FDV20': 1032, 'FDV21': 1033, 'FDV22': 1034, 'FDV23': 1035, 'FDV24': 1036, 'FDV25': 1037, 'FDV26': 1038, 'FDV27': 1039, 'FDV28': 1040, 'FDV31': 1041, 'FDV32': 1042, 'FDV33': 1043, 'FDV34': 1044, 'FDV35': 1045, 'FDV36': 1046, 'FDV37': 1047, 'FDV38': 1048, 'FDV39': 1049, 'FDV40': 1050, 'FDV43': 1051, 'FDV44': 1052, 'FDV45': 1053, 'FDV46': 1054, 'FDV47': 1055, 'FDV48': 1056, 'FDV49': 1057, 'FDV50': 1058, 'FDV51': 1059, 'FDV52': 1060, 'FDV55': 1061, 'FDV56': 1062, 'FDV57': 1063, 'FDV58': 1064, 'FDV59': 1065, 'FDV60': 1066, 'FDW01': 1067, 'FDW02': 1068, 'FDW03': 1069, 'FDW04': 1070, 'FDW07': 1071, 'FDW08': 1072, 'FDW09': 1073, 'FDW10': 1074, 'FDW11': 1075, 'FDW12': 1076, 'FDW13': 1077, 'FDW14': 1078, 'FDW15': 1079, 'FDW16': 1080, 'FDW19': 1081, 'FDW20': 1082, 'FDW21': 1083, 'FDW22': 1084, 'FDW23': 1085, 'FDW24': 1086, 'FDW25': 1087, 'FDW26': 1088, 'FDW27': 1089, 'FDW28': 1090, 'FDW31': 1091, 'FDW32': 1092, 'FDW33': 1093, 'FDW34': 1094, 'FDW35': 1095, 'FDW36': 1096, 'FDW37': 1097, 'FDW38': 1098, 'FDW39': 1099, 'FDW40': 1100, 'FDW43': 1101, 'FDW44': 1102, 'FDW45': 1103, 'FDW46': 1104, 'FDW47': 1105, 'FDW48': 1106, 'FDW49': 1107, 'FDW50': 1108, 'FDW51': 1109, 'FDW52': 1110, 'FDW55': 1111, 'FDW56': 1112, 'FDW57': 1113, 'FDW58': 1114, 'FDW59': 1115, 'FDW60': 1116, 'FDX01': 1117, 'FDX02': 1118, 'FDX03': 1119, 'FDX04': 1120, 'FDX07': 1121, 'FDX08': 1122, 'FDX09': 1123, 'FDX10': 1124, 'FDX11': 1125, 'FDX12': 1126, 'FDX13': 1127, 'FDX14': 1128, 'FDX15': 1129, 'FDX16': 1130, 'FDX19': 1131, 'FDX20': 1132, 'FDX21': 1133, 'FDX22': 1134, 'FDX23': 1135, 'FDX24': 1136, 'FDX25': 1137, 'FDX26': 1138, 'FDX27': 1139, 'FDX28': 1140, 'FDX31': 1141, 'FDX32': 1142, 'FDX33': 1143, 'FDX34': 1144, 'FDX35': 1145, 'FDX36': 1146, 'FDX37': 1147, 'FDX38': 1148, 'FDX39': 1149, 'FDX40': 1150, 'FDX43': 1151, 'FDX44': 1152, 'FDX45': 1153, 'FDX46': 1154, 'FDX47': 1155, 'FDX48': 1156, 'FDX49': 1157, 'FDX50': 1158, 'FDX51': 1159, 'FDX52': 1160, 'FDX55': 1161, 'FDX56': 1162, 'FDX57': 1163, 'FDX58': 1164, 'FDX59': 1165, 'FDX60': 1166, 'FDY01': 1167, 'FDY02': 1168, 'FDY03': 1169, 'FDY04': 1170, 'FDY07': 1171, 'FDY08': 1172, 'FDY09': 1173, 'FDY10': 1174, 'FDY11': 1175, 'FDY12': 1176, 'FDY13': 1177, 'FDY14': 1178, 'FDY15': 1179, 'FDY16': 1180, 'FDY19': 1181, 'FDY20': 1182, 'FDY21': 1183, 'FDY22': 1184, 'FDY24': 1185, 'FDY25': 1186, 'FDY26': 1187, 'FDY27': 1188, 'FDY28': 1189, 'FDY31': 1190, 'FDY32': 1191, 'FDY33': 1192, 'FDY34': 1193, 'FDY35': 1194, 'FDY36': 1195, 'FDY37': 1196, 'FDY38': 1197, 'FDY39': 1198, 'FDY40': 1199, 'FDY43': 1200, 'FDY44': 1201, 'FDY45': 1202, 'FDY46': 1203, 'FDY47': 1204, 'FDY48': 1205, 'FDY49': 1206, 'FDY50': 1207, 'FDY51': 1208, 'FDY52': 1209, 'FDY55': 1210, 'FDY56': 1211, 'FDY57': 1212, 'FDY58': 1213, 'FDY59': 1214, 'FDY60': 1215, 'FDZ01': 1216, 'FDZ02': 1217, 'FDZ03': 1218, 'FDZ04': 1219, 'FDZ07': 1220, 'FDZ08': 1221, 'FDZ09': 1222, 'FDZ10': 1223, 'FDZ12': 1224, 'FDZ13': 1225, 'FDZ14': 1226, 'FDZ15': 1227, 'FDZ16': 1228, 'FDZ19': 1229, 'FDZ20': 1230, 'FDZ21': 1231, 'FDZ22': 1232, 'FDZ23': 1233, 'FDZ25': 1234, 'FDZ26': 1235, 'FDZ27': 1236, 'FDZ28': 1237, 'FDZ31': 1238, 'FDZ32': 1239, 'FDZ33': 1240, 'FDZ34': 1241, 'FDZ35': 1242, 'FDZ36': 1243, 'FDZ37': 1244, 'FDZ38': 1245, 'FDZ39': 1246, 'FDZ40': 1247, 'FDZ43': 1248, 'FDZ44': 1249, 'FDZ45': 1250, 'FDZ46': 1251, 'FDZ47': 1252, 'FDZ48': 1253, 'FDZ49': 1254, 'FDZ50': 1255, 'FDZ51': 1256, 'FDZ52': 1257, 'FDZ55': 1258, 'FDZ56': 1259, 'FDZ57': 1260, 'FDZ58': 1261, 'FDZ59': 1262, 'FDZ60': 1263, 'NCA05': 1264, 'NCA06': 1265, 'NCA17': 1266, 'NCA18': 1267, 'NCA29': 1268, 'NCA30': 1269, 'NCA41': 1270, 'NCA42': 1271, 'NCA53': 1272, 'NCA54': 1273, 'NCB06': 1274, 'NCB07': 1275, 'NCB18': 1276, 'NCB19': 1277, 'NCB30': 1278, 'NCB31': 1279, 'NCB42': 1280, 'NCB43': 1281, 'NCB54': 1282, 'NCB55': 1283, 'NCC06': 1284, 'NCC07': 1285, 'NCC18': 1286, 'NCC19': 1287, 'NCC30': 1288, 'NCC31': 1289, 'NCC42': 1290, 'NCC43': 1291, 'NCC54': 1292, 'NCC55': 1293, 'NCD06': 1294, 'NCD07': 1295, 'NCD18': 1296, 'NCD19': 1297, 'NCD30': 1298, 'NCD31': 1299, 'NCD42': 1300, 'NCD43': 1301, 'NCD54': 1302, 'NCD55': 1303, 'NCE06': 1304, 'NCE07': 1305, 'NCE18': 1306, 'NCE19': 1307, 'NCE30': 1308, 'NCE31': 1309, 'NCE42': 1310, 'NCE43': 1311, 'NCE54': 1312, 'NCE55': 1313, 'NCF06': 1314, 'NCF07': 1315, 'NCF18': 1316, 'NCF19': 1317, 'NCF30': 1318, 'NCF31': 1319, 'NCF42': 1320, 'NCF43': 1321, 'NCF54': 1322, 'NCF55': 1323, 'NCG06': 1324, 'NCG07': 1325, 'NCG18': 1326, 'NCG19': 1327, 'NCG30': 1328, 'NCG42': 1329, 'NCG43': 1330, 'NCG54': 1331, 'NCG55': 1332, 'NCH06': 1333, 'NCH07': 1334, 'NCH18': 1335, 'NCH29': 1336, 'NCH30': 1337, 'NCH42': 1338, 'NCH43': 1339, 'NCH54': 1340, 'NCH55': 1341, 'NCI06': 1342, 'NCI17': 1343, 'NCI18': 1344, 'NCI29': 1345, 'NCI30': 1346, 'NCI31': 1347, 'NCI42': 1348, 'NCI43': 1349, 'NCI54': 1350, 'NCI55': 1351, 'NCJ05': 1352, 'NCJ06': 1353, 'NCJ17': 1354, 'NCJ18': 1355, 'NCJ19': 1356, 'NCJ29': 1357, 'NCJ30': 1358, 'NCJ31': 1359, 'NCJ42': 1360, 'NCJ43': 1361, 'NCJ54': 1362, 'NCK05': 1363, 'NCK06': 1364, 'NCK07': 1365, 'NCK17': 1366, 'NCK18': 1367, 'NCK19': 1368, 'NCK29': 1369, 'NCK30': 1370, 'NCK31': 1371, 'NCK42': 1372, 'NCK53': 1373, 'NCK54': 1374, 'NCL05': 1375, 'NCL06': 1376, 'NCL07': 1377, 'NCL17': 1378, 'NCL18': 1379, 'NCL19': 1380, 'NCL29': 1381, 'NCL30': 1382, 'NCL31': 1383, 'NCL41': 1384, 'NCL42': 1385, 'NCL53': 1386, 'NCL54': 1387, 'NCL55': 1388, 'NCM05': 1389, 'NCM06': 1390, 'NCM07': 1391, 'NCM17': 1392, 'NCM18': 1393, 'NCM19': 1394, 'NCM26': 1395, 'NCM29': 1396, 'NCM30': 1397, 'NCM31': 1398, 'NCM41': 1399, 'NCM42': 1400, 'NCM43': 1401, 'NCM53': 1402, 'NCM54': 1403, 'NCM55': 1404, 'NCN05': 1405, 'NCN06': 1406, 'NCN07': 1407, 'NCN14': 1408, 'NCN17': 1409, 'NCN18': 1410, 'NCN19': 1411, 'NCN26': 1412, 'NCN29': 1413, 'NCN30': 1414, 'NCN41': 1415, 'NCN42': 1416, 'NCN43': 1417, 'NCN53': 1418, 'NCN54': 1419, 'NCN55': 1420, 'NCO02': 1421, 'NCO05': 1422, 'NCO06': 1423, 'NCO07': 1424, 'NCO14': 1425, 'NCO17': 1426, 'NCO18': 1427, 'NCO26': 1428, 'NCO29': 1429, 'NCO30': 1430, 'NCO41': 1431, 'NCO42': 1432, 'NCO43': 1433, 'NCO53': 1434, 'NCO54': 1435, 'NCO55': 1436, 'NCP02': 1437, 'NCP05': 1438, 'NCP06': 1439, 'NCP14': 1440, 'NCP17': 1441, 'NCP18': 1442, 'NCP29': 1443, 'NCP30': 1444, 'NCP41': 1445, 'NCP42': 1446, 'NCP43': 1447, 'NCP50': 1448, 'NCP53': 1449, 'NCP54': 1450, 'NCP55': 1451, 'NCQ02': 1452, 'NCQ05': 1453, 'NCQ06': 1454, 'NCQ17': 1455, 'NCQ18': 1456, 'NCQ29': 1457, 'NCQ30': 1458, 'NCQ38': 1459, 'NCQ41': 1460, 'NCQ42': 1461, 'NCQ43': 1462, 'NCQ50': 1463, 'NCQ53': 1464, 'NCQ54': 1465, 'NCR05': 1466, 'NCR06': 1467, 'NCR17': 1468, 'NCR18': 1469, 'NCR29': 1470, 'NCR30': 1471, 'NCR38': 1472, 'NCR41': 1473, 'NCR42': 1474, 'NCR50': 1475, 'NCR53': 1476, 'NCR54': 1477, 'NCS05': 1478, 'NCS06': 1479, 'NCS17': 1480, 'NCS18': 1481, 'NCS29': 1482, 'NCS30': 1483, 'NCS38': 1484, 'NCS41': 1485, 'NCS42': 1486, 'NCS53': 1487, 'NCS54': 1488, 'NCT05': 1489, 'NCT06': 1490, 'NCT17': 1491, 'NCT18': 1492, 'NCT29': 1493, 'NCT30': 1494, 'NCT41': 1495, 'NCT42': 1496, 'NCT53': 1497, 'NCT54': 1498, 'NCU05': 1499, 'NCU06': 1500, 'NCU17': 1501, 'NCU18': 1502, 'NCU29': 1503, 'NCU30': 1504, 'NCU41': 1505, 'NCU42': 1506, 'NCU53': 1507, 'NCU54': 1508, 'NCV05': 1509, 'NCV06': 1510, 'NCV17': 1511, 'NCV18': 1512, 'NCV29': 1513, 'NCV30': 1514, 'NCV41': 1515, 'NCV42': 1516, 'NCV53': 1517, 'NCV54': 1518, 'NCW05': 1519, 'NCW06': 1520, 'NCW17': 1521, 'NCW18': 1522, 'NCW29': 1523, 'NCW30': 1524, 'NCW41': 1525, 'NCW42': 1526, 'NCW53': 1527, 'NCW54': 1528, 'NCX05': 1529, 'NCX06': 1530, 'NCX17': 1531, 'NCX18': 1532, 'NCX29': 1533, 'NCX30': 1534, 'NCX41': 1535, 'NCX42': 1536, 'NCX53': 1537, 'NCX54': 1538, 'NCY05': 1539, 'NCY06': 1540, 'NCY17': 1541, 'NCY18': 1542, 'NCY29': 1543, 'NCY30': 1544, 'NCY41': 1545, 'NCY42': 1546, 'NCY53': 1547, 'NCY54': 1548, 'NCZ05': 1549, 'NCZ06': 1550, 'NCZ17': 1551, 'NCZ18': 1552, 'NCZ29': 1553, 'NCZ30': 1554, 'NCZ41': 1555, 'NCZ42': 1556, 'NCZ53': 1557, 'NCZ54': 1558}\n"
     ]
    }
   ],
   "source": [
    "from sklearn.preprocessing import LabelEncoder\n",
    "lb_encoder = LabelEncoder()\n",
    "df['Item_Identifier'] = lb_encoder.fit_transform(df['Item_Identifier'])\n",
    "le_name_mapping = dict(zip(lb_encoder.classes_, lb_encoder.transform(lb_encoder.classes_)))\n",
    "print(le_name_mapping)"
   ]
  },
  {
   "cell_type": "code",
   "execution_count": 16,
   "id": "1c21627e",
   "metadata": {},
   "outputs": [
    {
     "name": "stdout",
     "output_type": "stream",
     "text": [
      "{'Low Fat': 0, 'Regular': 1}\n"
     ]
    }
   ],
   "source": [
    "lb_encoder = LabelEncoder()\n",
    "df['Item_Fat_Content'] = lb_encoder.fit_transform(df['Item_Fat_Content'])\n",
    "le_name_mapping = dict(zip(lb_encoder.classes_, lb_encoder.transform(lb_encoder.classes_)))\n",
    "print(le_name_mapping)"
   ]
  },
  {
   "cell_type": "code",
   "execution_count": 17,
   "id": "b200448b",
   "metadata": {},
   "outputs": [
    {
     "name": "stdout",
     "output_type": "stream",
     "text": [
      "{'Baking Goods': 0, 'Breads': 1, 'Breakfast': 2, 'Canned': 3, 'Dairy': 4, 'Frozen Foods': 5, 'Fruits and Vegetables': 6, 'Hard Drinks': 7, 'Health and Hygiene': 8, 'Household': 9, 'Meat': 10, 'Others': 11, 'Seafood': 12, 'Snack Foods': 13, 'Soft Drinks': 14, 'Starchy Foods': 15}\n"
     ]
    }
   ],
   "source": [
    "lb_encoder = LabelEncoder()\n",
    "df['Item_Type'] = lb_encoder.fit_transform(df['Item_Type'])\n",
    "le_name_mapping = dict(zip(lb_encoder.classes_, lb_encoder.transform(lb_encoder.classes_)))\n",
    "print(le_name_mapping)"
   ]
  },
  {
   "cell_type": "code",
   "execution_count": 18,
   "id": "a6034777",
   "metadata": {},
   "outputs": [
    {
     "name": "stdout",
     "output_type": "stream",
     "text": [
      "{'OUT010': 0, 'OUT013': 1, 'OUT017': 2, 'OUT018': 3, 'OUT019': 4, 'OUT027': 5, 'OUT035': 6, 'OUT045': 7, 'OUT046': 8, 'OUT049': 9}\n"
     ]
    }
   ],
   "source": [
    "lb_encoder = LabelEncoder()\n",
    "df['Outlet_Identifier'] = lb_encoder.fit_transform(df['Outlet_Identifier'])\n",
    "le_name_mapping = dict(zip(lb_encoder.classes_, lb_encoder.transform(lb_encoder.classes_)))\n",
    "print(le_name_mapping)"
   ]
  },
  {
   "cell_type": "code",
   "execution_count": 19,
   "id": "5c711617",
   "metadata": {},
   "outputs": [
    {
     "name": "stdout",
     "output_type": "stream",
     "text": [
      "{'Tier 1': 0, 'Tier 2': 1, 'Tier 3': 2}\n"
     ]
    }
   ],
   "source": [
    "lb_encoder = LabelEncoder()\n",
    "df['Outlet_Location_Type'] = lb_encoder.fit_transform(df['Outlet_Location_Type'])\n",
    "le_name_mapping = dict(zip(lb_encoder.classes_, lb_encoder.transform(lb_encoder.classes_)))\n",
    "print(le_name_mapping)"
   ]
  },
  {
   "cell_type": "code",
   "execution_count": 20,
   "id": "c65ea6e2",
   "metadata": {},
   "outputs": [
    {
     "name": "stdout",
     "output_type": "stream",
     "text": [
      "{'Grocery Store': 0, 'Supermarket Type1': 1, 'Supermarket Type2': 2, 'Supermarket Type3': 3}\n"
     ]
    }
   ],
   "source": [
    "lb_encoder = LabelEncoder()\n",
    "df['Outlet_Type'] = lb_encoder.fit_transform(df['Outlet_Type'])\n",
    "le_name_mapping = dict(zip(lb_encoder.classes_, lb_encoder.transform(lb_encoder.classes_)))\n",
    "print(le_name_mapping)"
   ]
  },
  {
   "cell_type": "code",
   "execution_count": 21,
   "id": "39ac9e87",
   "metadata": {},
   "outputs": [
    {
     "name": "stdout",
     "output_type": "stream",
     "text": [
      "{'High': 0, 'Medium': 1, 'Small': 2}\n"
     ]
    }
   ],
   "source": [
    "lb_encoder = LabelEncoder()\n",
    "df['Outlet_Size'] = lb_encoder.fit_transform(df['Outlet_Size'])\n",
    "le_name_mapping = dict(zip(lb_encoder.classes_, lb_encoder.transform(lb_encoder.classes_)))\n",
    "print(le_name_mapping)"
   ]
  },
  {
   "cell_type": "code",
   "execution_count": 22,
   "id": "387b2b4d",
   "metadata": {},
   "outputs": [
    {
     "name": "stdout",
     "output_type": "stream",
     "text": [
      "<class 'pandas.core.frame.DataFrame'>\n",
      "RangeIndex: 8523 entries, 0 to 8522\n",
      "Data columns (total 12 columns):\n",
      " #   Column                     Non-Null Count  Dtype  \n",
      "---  ------                     --------------  -----  \n",
      " 0   Item_Identifier            8523 non-null   int64  \n",
      " 1   Item_Weight                8523 non-null   float64\n",
      " 2   Item_Fat_Content           8523 non-null   int64  \n",
      " 3   Item_Visibility            8523 non-null   float64\n",
      " 4   Item_Type                  8523 non-null   int64  \n",
      " 5   Item_MRP                   8523 non-null   float64\n",
      " 6   Outlet_Identifier          8523 non-null   int64  \n",
      " 7   Outlet_Establishment_Year  8523 non-null   int64  \n",
      " 8   Outlet_Size                8523 non-null   int64  \n",
      " 9   Outlet_Location_Type       8523 non-null   int64  \n",
      " 10  Outlet_Type                8523 non-null   int64  \n",
      " 11  Item_Outlet_Sales          8523 non-null   float64\n",
      "dtypes: float64(4), int64(8)\n",
      "memory usage: 799.2 KB\n"
     ]
    }
   ],
   "source": [
    "df.info()"
   ]
  },
  {
   "cell_type": "code",
   "execution_count": 23,
   "id": "153fa7f7",
   "metadata": {},
   "outputs": [],
   "source": [
    "from sklearn.model_selection import train_test_split\n",
    "from sklearn.metrics import mean_squared_error, r2_score\n",
    "import math"
   ]
  },
  {
   "cell_type": "code",
   "execution_count": 24,
   "id": "0ed5196b",
   "metadata": {},
   "outputs": [],
   "source": [
    "X = df.drop(['Item_Outlet_Sales'], axis=1)\n",
    "y = df['Item_Outlet_Sales']"
   ]
  },
  {
   "cell_type": "code",
   "execution_count": 25,
   "id": "9dd00bff",
   "metadata": {},
   "outputs": [],
   "source": [
    "X_train, X_test, y_train, y_test = train_test_split(X, y, test_size=0.2)"
   ]
  },
  {
   "cell_type": "code",
   "execution_count": 26,
   "id": "2b963b75",
   "metadata": {},
   "outputs": [],
   "source": [
    "def RegressionAlgorithm(func, **kwargs):\n",
    "    def innerFunction():\n",
    "        model = func(**kwargs)\n",
    "        model.fit(X_train, y_train)\n",
    "        y_pred = model.predict(X_test)\n",
    "        rmse = math.sqrt(mean_squared_error(y_test, y_pred))\n",
    "        print(\"Root Mean squared error: %.2f\" % rmse)\n",
    "        print('R2 score: %.2f' % r2_score(y_test, y_pred))        \n",
    "    return innerFunction"
   ]
  },
  {
   "cell_type": "code",
   "execution_count": 27,
   "id": "dce8418a",
   "metadata": {},
   "outputs": [
    {
     "name": "stdout",
     "output_type": "stream",
     "text": [
      "Root Mean squared error: 1182.38\n",
      "R2 score: 0.51\n"
     ]
    }
   ],
   "source": [
    "from sklearn.linear_model import LinearRegression\n",
    "RegressionAlgorithm(LinearRegression)()"
   ]
  },
  {
   "cell_type": "code",
   "execution_count": 28,
   "id": "3e29795c",
   "metadata": {},
   "outputs": [
    {
     "name": "stdout",
     "output_type": "stream",
     "text": [
      "Root Mean squared error: 1182.45\n",
      "R2 score: 0.51\n"
     ]
    }
   ],
   "source": [
    "from sklearn.linear_model import Ridge\n",
    "RegressionAlgorithm(Ridge)()"
   ]
  },
  {
   "cell_type": "code",
   "execution_count": 29,
   "id": "c7366bd3",
   "metadata": {},
   "outputs": [
    {
     "name": "stdout",
     "output_type": "stream",
     "text": [
      "Root Mean squared error: 1182.81\n",
      "R2 score: 0.50\n"
     ]
    }
   ],
   "source": [
    "from sklearn.linear_model import Lasso\n",
    "RegressionAlgorithm(Lasso)()"
   ]
  },
  {
   "cell_type": "code",
   "execution_count": 30,
   "id": "3e3264c9",
   "metadata": {},
   "outputs": [
    {
     "name": "stdout",
     "output_type": "stream",
     "text": [
      "Root Mean squared error: 1216.29\n",
      "R2 score: 0.48\n"
     ]
    }
   ],
   "source": [
    "from sklearn.linear_model import ElasticNet\n",
    "RegressionAlgorithm(ElasticNet)()"
   ]
  },
  {
   "cell_type": "code",
   "execution_count": 31,
   "id": "d2f78513",
   "metadata": {},
   "outputs": [
    {
     "name": "stdout",
     "output_type": "stream",
     "text": [
      "Root Mean squared error: 1072.96\n",
      "R2 score: 0.59\n"
     ]
    }
   ],
   "source": [
    "from sklearn.ensemble import RandomForestRegressor\n",
    "RegressionAlgorithm(RandomForestRegressor,n_estimators=100,max_depth=6,\n",
    "min_samples_leaf=50,n_jobs=4)()"
   ]
  },
  {
   "cell_type": "code",
   "execution_count": 32,
   "id": "5ed09878",
   "metadata": {},
   "outputs": [
    {
     "name": "stdout",
     "output_type": "stream",
     "text": [
      "Root Mean squared error: 1211.20\n",
      "R2 score: 0.48\n"
     ]
    }
   ],
   "source": [
    "from sklearn.svm import LinearSVR\n",
    "RegressionAlgorithm(LinearSVR, max_iter=10000)()"
   ]
  },
  {
   "cell_type": "code",
   "execution_count": 33,
   "id": "0e16499d",
   "metadata": {},
   "outputs": [
    {
     "name": "stdout",
     "output_type": "stream",
     "text": [
      "Root Mean squared error: 1169.18\n",
      "R2 score: 0.52\n"
     ]
    }
   ],
   "source": [
    "from sklearn.neural_network import MLPRegressor\n",
    "RegressionAlgorithm(MLPRegressor,max_iter=500)()"
   ]
  },
  {
   "cell_type": "code",
   "execution_count": 34,
   "id": "e4b9ade0",
   "metadata": {},
   "outputs": [
    {
     "name": "stdout",
     "output_type": "stream",
     "text": [
      "Root Mean squared error: 1109.01\n",
      "R2 score: 0.56\n"
     ]
    }
   ],
   "source": [
    "from sklearn.tree import DecisionTreeRegressor\n",
    "RegressionAlgorithm(DecisionTreeRegressor,max_depth=15,min_samples_leaf=300)()"
   ]
  }
 ],
 "metadata": {
  "kernelspec": {
   "display_name": "Python 3 (ipykernel)",
   "language": "python",
   "name": "python3"
  },
  "language_info": {
   "codemirror_mode": {
    "name": "ipython",
    "version": 3
   },
   "file_extension": ".py",
   "mimetype": "text/x-python",
   "name": "python",
   "nbconvert_exporter": "python",
   "pygments_lexer": "ipython3",
   "version": "3.9.7"
  }
 },
 "nbformat": 4,
 "nbformat_minor": 5
}
