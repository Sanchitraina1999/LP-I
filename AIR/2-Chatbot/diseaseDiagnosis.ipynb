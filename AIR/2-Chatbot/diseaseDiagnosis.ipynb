{
 "cells": [
  {
   "cell_type": "code",
   "execution_count": 1,
   "id": "1579080e",
   "metadata": {},
   "outputs": [],
   "source": [
    "import pandas as pd\n",
    "import numpy as np\n",
    "from itertools import compress"
   ]
  },
  {
   "cell_type": "code",
   "execution_count": 2,
   "id": "0d439aab",
   "metadata": {},
   "outputs": [
    {
     "data": {
      "text/html": [
       "<div>\n",
       "<style scoped>\n",
       "    .dataframe tbody tr th:only-of-type {\n",
       "        vertical-align: middle;\n",
       "    }\n",
       "\n",
       "    .dataframe tbody tr th {\n",
       "        vertical-align: top;\n",
       "    }\n",
       "\n",
       "    .dataframe thead th {\n",
       "        text-align: right;\n",
       "    }\n",
       "</style>\n",
       "<table border=\"1\" class=\"dataframe\">\n",
       "  <thead>\n",
       "    <tr style=\"text-align: right;\">\n",
       "      <th></th>\n",
       "      <th>Unnamed: 0</th>\n",
       "      <th>Heart</th>\n",
       "      <th>Stroke</th>\n",
       "      <th>Lung</th>\n",
       "      <th>Stomach</th>\n",
       "      <th>Muscle</th>\n",
       "      <th>Emotional</th>\n",
       "      <th>Bladder</th>\n",
       "      <th>Headache</th>\n",
       "      <th>Weight</th>\n",
       "      <th>COVID</th>\n",
       "    </tr>\n",
       "  </thead>\n",
       "  <tbody>\n",
       "    <tr>\n",
       "      <th>0</th>\n",
       "      <td>Pain</td>\n",
       "      <td>1</td>\n",
       "      <td>0</td>\n",
       "      <td>0</td>\n",
       "      <td>0</td>\n",
       "      <td>1</td>\n",
       "      <td>0</td>\n",
       "      <td>1</td>\n",
       "      <td>0</td>\n",
       "      <td>0</td>\n",
       "      <td>1</td>\n",
       "    </tr>\n",
       "    <tr>\n",
       "      <th>1</th>\n",
       "      <td>Short Breath</td>\n",
       "      <td>1</td>\n",
       "      <td>0</td>\n",
       "      <td>1</td>\n",
       "      <td>0</td>\n",
       "      <td>0</td>\n",
       "      <td>0</td>\n",
       "      <td>0</td>\n",
       "      <td>0</td>\n",
       "      <td>0</td>\n",
       "      <td>0</td>\n",
       "    </tr>\n",
       "    <tr>\n",
       "      <th>2</th>\n",
       "      <td>Nausea</td>\n",
       "      <td>1</td>\n",
       "      <td>0</td>\n",
       "      <td>0</td>\n",
       "      <td>0</td>\n",
       "      <td>0</td>\n",
       "      <td>0</td>\n",
       "      <td>0</td>\n",
       "      <td>0</td>\n",
       "      <td>0</td>\n",
       "      <td>0</td>\n",
       "    </tr>\n",
       "    <tr>\n",
       "      <th>3</th>\n",
       "      <td>Weakness</td>\n",
       "      <td>0</td>\n",
       "      <td>1</td>\n",
       "      <td>0</td>\n",
       "      <td>0</td>\n",
       "      <td>0</td>\n",
       "      <td>1</td>\n",
       "      <td>0</td>\n",
       "      <td>0</td>\n",
       "      <td>0</td>\n",
       "      <td>1</td>\n",
       "    </tr>\n",
       "    <tr>\n",
       "      <th>4</th>\n",
       "      <td>Headache</td>\n",
       "      <td>0</td>\n",
       "      <td>1</td>\n",
       "      <td>0</td>\n",
       "      <td>0</td>\n",
       "      <td>0</td>\n",
       "      <td>1</td>\n",
       "      <td>0</td>\n",
       "      <td>1</td>\n",
       "      <td>0</td>\n",
       "      <td>1</td>\n",
       "    </tr>\n",
       "  </tbody>\n",
       "</table>\n",
       "</div>"
      ],
      "text/plain": [
       "     Unnamed: 0  Heart  Stroke  Lung  Stomach  Muscle  Emotional  Bladder  \\\n",
       "0          Pain      1       0     0        0       1          0        1   \n",
       "1  Short Breath      1       0     1        0       0          0        0   \n",
       "2        Nausea      1       0     0        0       0          0        0   \n",
       "3      Weakness      0       1     0        0       0          1        0   \n",
       "4      Headache      0       1     0        0       0          1        0   \n",
       "\n",
       "   Headache  Weight  COVID  \n",
       "0         0       0      1  \n",
       "1         0       0      0  \n",
       "2         0       0      0  \n",
       "3         0       0      1  \n",
       "4         1       0      1  "
      ]
     },
     "execution_count": 2,
     "metadata": {},
     "output_type": "execute_result"
    }
   ],
   "source": [
    "df = pd.read_csv(\"knowledge_base.csv\")\n",
    "df.head()"
   ]
  },
  {
   "cell_type": "code",
   "execution_count": 3,
   "id": "665a8c1b",
   "metadata": {},
   "outputs": [
    {
     "name": "stdout",
     "output_type": "stream",
     "text": [
      "Knowlege Matrix:\n",
      " [[1 0 0 0 1 0 1 0 0 1]\n",
      " [1 0 1 0 0 0 0 0 0 0]\n",
      " [1 0 0 0 0 0 0 0 0 0]\n",
      " [0 1 0 0 0 1 0 0 0 1]\n",
      " [0 1 0 0 0 1 0 1 0 1]\n",
      " [0 1 0 0 0 0 0 1 0 0]\n",
      " [0 0 1 0 0 0 0 0 0 1]\n",
      " [0 0 0 1 0 0 0 0 0 1]\n",
      " [0 0 0 1 1 0 0 0 0 0]\n",
      " [0 0 0 1 0 0 0 0 1 0]\n",
      " [0 0 0 0 0 1 0 0 1 0]\n",
      " [0 0 0 0 0 0 1 0 0 0]\n",
      " [0 0 0 0 0 0 0 0 1 0]\n",
      " [0 0 0 0 0 0 0 0 0 1]]\n"
     ]
    }
   ],
   "source": [
    "diseases = list(map(lambda x: x.lower(), df.columns))[1:]\n",
    "symptoms = list(map(lambda x: x.lower(), df.iloc[:, 0]))\n",
    "knowledge_matrix = np.array(df.drop(\"Unnamed: 0\", axis=1))\n",
    "print(\"Knowlege Matrix:\\n\", knowledge_matrix)"
   ]
  },
  {
   "cell_type": "code",
   "execution_count": 4,
   "id": "76c9590c",
   "metadata": {},
   "outputs": [
    {
     "data": {
      "text/plain": [
       "(10, ['dizziness', 'depression', 'pain', 'cough', 'diarrhoea', 'fever'])"
      ]
     },
     "execution_count": 4,
     "metadata": {},
     "output_type": "execute_result"
    }
   ],
   "source": [
    "# inference engine\n",
    "MORE_INFO = 10\n",
    "NOT_FOUND = 11\n",
    "FOUND = 12\n",
    "CONFUSED = 13\n",
    "\n",
    "def get_disease(patient_symptoms):\n",
    "  potential_diseases = diseases\n",
    "  for symptom in patient_symptoms:\n",
    "    if symptom in symptoms:\n",
    "      idx = symptoms.index(symptom)\n",
    "      symptom_diseases = list(compress(diseases, knowledge_matrix[idx]))\n",
    "      potential_diseases = list(filter(lambda x: x in symptom_diseases, potential_diseases))\n",
    "    else: potential_diseases = []\n",
    "  return potential_diseases\n",
    "\n",
    "def get_symptoms(patient_diseases):\n",
    "  patient_symptoms = []\n",
    "  for disease in patient_diseases:\n",
    "    idx = diseases.index(disease)\n",
    "    disease_symptoms = list(compress(symptoms, knowledge_matrix.T[idx]))\n",
    "    patient_symptoms += list(filter(lambda x: x not in patient_symptoms, disease_symptoms))\n",
    "  return patient_symptoms\n",
    "\n",
    "def inference_engine(patient_symptoms, no_more_info=False):\n",
    "  patient_diseases = get_disease(patient_symptoms)\n",
    "  if len(patient_diseases) > 1:\n",
    "    if no_more_info:\n",
    "      return (CONFUSED, patient_diseases)\n",
    "    return (MORE_INFO, list(filter(lambda x: x not in patient_symptoms, get_symptoms(patient_diseases))))\n",
    "  if len(patient_diseases) == 1:\n",
    "    return (FOUND, patient_diseases)\n",
    "  if len(patient_diseases) == 0:\n",
    "    return (NOT_FOUND,)\n",
    "\n",
    "inference_engine([\"headache\", \"weakness\"])"
   ]
  },
  {
   "cell_type": "code",
   "execution_count": 5,
   "id": "4ec2ad67",
   "metadata": {},
   "outputs": [],
   "source": [
    "# user interface\n",
    "def user_interface():\n",
    "  user_symptoms = input(\"What symptoms are you suffering from?\\n\").split(\" \")\n",
    "  while True:\n",
    "    res = inference_engine(user_symptoms)\n",
    "    if res[0] == MORE_INFO:\n",
    "      user_enter = input(\"Are you suffering from any of following other symptoms?\\n\" \n",
    "                         + \" \".join(res[1])+ \"\\n\").split(\" \")\n",
    "      if user_enter[0] == \"no\":\n",
    "        print(\"Not sure. You may have one of the following diseases...\")\n",
    "        print(inference_engine(user_symptoms, True)[1])\n",
    "        return\n",
    "      user_symptoms += user_enter\n",
    "    if res[0] == FOUND:\n",
    "      print(\"You are suffering from \" + res[1][0] + \" disease!\")\n",
    "      return\n",
    "    if res[0] == NOT_FOUND:\n",
    "      print(\"That's beyond my knowledge!\")\n",
    "      return"
   ]
  },
  {
   "cell_type": "code",
   "execution_count": 6,
   "id": "049b5d42",
   "metadata": {},
   "outputs": [
    {
     "name": "stdout",
     "output_type": "stream",
     "text": [
      "What symptoms are you suffering from?\n",
      "vomiting\n",
      "Are you suffering from any of following other symptoms?\n",
      "diarrhoea inflammation depression thirst\n",
      "diarrhoea\n",
      "You are suffering from stomach disease!\n"
     ]
    }
   ],
   "source": [
    "# scenario #1: found\n",
    "user_interface()"
   ]
  },
  {
   "cell_type": "code",
   "execution_count": 7,
   "id": "b064cb58",
   "metadata": {},
   "outputs": [
    {
     "name": "stdout",
     "output_type": "stream",
     "text": [
      "What symptoms are you suffering from?\n",
      "rash\n",
      "That's beyond my knowledge!\n"
     ]
    }
   ],
   "source": [
    "# scenario #2: not found\n",
    "user_interface()"
   ]
  },
  {
   "cell_type": "code",
   "execution_count": 8,
   "id": "96317b4f",
   "metadata": {},
   "outputs": [
    {
     "name": "stdout",
     "output_type": "stream",
     "text": [
      "What symptoms are you suffering from?\n",
      "vomiting\n",
      "Are you suffering from any of following other symptoms?\n",
      "diarrhoea inflammation depression thirst\n",
      "no\n",
      "Not sure. You may have one of the following diseases...\n",
      "['stomach', 'weight']\n"
     ]
    }
   ],
   "source": [
    "# scenario #3: confused\n",
    "user_interface()"
   ]
  }
 ],
 "metadata": {
  "kernelspec": {
   "display_name": "Python 3 (ipykernel)",
   "language": "python",
   "name": "python3"
  },
  "language_info": {
   "codemirror_mode": {
    "name": "ipython",
    "version": 3
   },
   "file_extension": ".py",
   "mimetype": "text/x-python",
   "name": "python",
   "nbconvert_exporter": "python",
   "pygments_lexer": "ipython3",
   "version": "3.9.7"
  }
 },
 "nbformat": 4,
 "nbformat_minor": 5
}
